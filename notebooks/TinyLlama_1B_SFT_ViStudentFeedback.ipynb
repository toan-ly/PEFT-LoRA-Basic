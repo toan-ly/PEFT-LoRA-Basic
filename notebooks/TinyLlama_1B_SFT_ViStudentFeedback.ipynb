{
  "cells": [
    {
      "cell_type": "code",
      "execution_count": null,
      "metadata": {
        "id": "iScWoQi3e_We"
      },
      "outputs": [],
      "source": [
        "# !pip install -q -U bitsandbytes\n",
        "# !pip install -q -U datasets\n",
        "# !pip install -q -U git+https://github.com/huggingface/transformers.git\n",
        "# !pip install -q -U git+https://github.com/huggingface/peft.git\n",
        "# !pip install -q -U git+https://github.com/huggingface/accelerate.git\n",
        "# !pip install -q -U loralib\n",
        "# !pip install -q -U einops"
      ]
    },
    {
      "cell_type": "code",
      "execution_count": null,
      "metadata": {
        "id": "Z8onc8TmfA8t",
        "outputId": "1e55180a-b8c0-4925-b1c0-e883019341c0"
      },
      "outputs": [],
      "source": [
        "import os\n",
        "import torch\n",
        "import numpy as np\n",
        "from sklearn.metrics import accuracy_score\n",
        "from datasets import load_dataset\n",
        "\n",
        "from transformers import (\n",
        "    AutoModelForSequenceClassification,\n",
        "    AutoTokenizer,\n",
        "    TrainingArguments,\n",
        "    Trainer,\n",
        "    TrainerCallback,\n",
        "    DataCollatorWithPadding,\n",
        "    DataCollatorForLanguageModeling,\n",
        "    BitsAndBytesConfig,\n",
        "    set_seed\n",
        ")\n",
        "\n",
        "from peft import (\n",
        "    LoraConfig,\n",
        "    get_peft_model,\n",
        "    prepare_model_for_kbit_training,\n",
        "    PeftModel,\n",
        "    PeftConfig\n",
        ")"
      ]
    },
    {
      "cell_type": "code",
      "execution_count": null,
      "metadata": {
        "id": "Sx65m0Phs8ol"
      },
      "outputs": [],
      "source": [
        "set_seed(42)\n",
        "os.environ[\"CUDA_VISIBLE_DEVICES\"] = \"0\""
      ]
    },
    {
      "cell_type": "markdown",
      "metadata": {
        "id": "iV6G2dvcYvb6"
      },
      "source": [
        "## **Load & Preprocess Dataset**"
      ]
    },
    {
      "cell_type": "code",
      "execution_count": null,
      "metadata": {
        "id": "pAH23R9rfJ1M"
      },
      "outputs": [],
      "source": [
        "dataset = load_dataset(\"uit-nlp/vietnamese_students_feedback\", trust_remote_code=True)"
      ]
    },
    {
      "cell_type": "code",
      "execution_count": null,
      "metadata": {
        "colab": {
          "base_uri": "https://localhost:8080/"
        },
        "id": "EtflwW6UtBlV",
        "outputId": "361a0c6e-2a58-4c57-ac51-2a3aa1fc4790"
      },
      "outputs": [
        {
          "name": "stdout",
          "output_type": "stream",
          "text": [
            "Dataset structure: DatasetDict({\n",
            "    train: Dataset({\n",
            "        features: ['sentence', 'sentiment', 'topic'],\n",
            "        num_rows: 11426\n",
            "    })\n",
            "    validation: Dataset({\n",
            "        features: ['sentence', 'sentiment', 'topic'],\n",
            "        num_rows: 1583\n",
            "    })\n",
            "    test: Dataset({\n",
            "        features: ['sentence', 'sentiment', 'topic'],\n",
            "        num_rows: 3166\n",
            "    })\n",
            "})\n"
          ]
        }
      ],
      "source": [
        "print(\"Dataset structure:\", dataset)"
      ]
    },
    {
      "cell_type": "code",
      "execution_count": null,
      "metadata": {
        "id": "0bPXyx3wffHv"
      },
      "outputs": [],
      "source": [
        "def preprocess(example):\n",
        "    return {\n",
        "        \"text\": str(example[\"sentence\"]),\n",
        "        \"label\": int(example[\"sentiment\"])\n",
        "    }\n",
        "\n",
        "dataset = dataset.map(\n",
        "    preprocess,\n",
        "    remove_columns=[\"sentence\", \"sentiment\", \"topic\"]\n",
        ")"
      ]
    },
    {
      "cell_type": "code",
      "execution_count": null,
      "metadata": {
        "colab": {
          "base_uri": "https://localhost:8080/"
        },
        "id": "MSrrWB-EwBsV",
        "outputId": "49e0c0fc-083b-4cc3-d627-a99b3205b5c0"
      },
      "outputs": [
        {
          "data": {
            "text/plain": [
              "DatasetDict({\n",
              "    train: Dataset({\n",
              "        features: ['text', 'label'],\n",
              "        num_rows: 11426\n",
              "    })\n",
              "    validation: Dataset({\n",
              "        features: ['text', 'label'],\n",
              "        num_rows: 1583\n",
              "    })\n",
              "    test: Dataset({\n",
              "        features: ['text', 'label'],\n",
              "        num_rows: 3166\n",
              "    })\n",
              "})"
            ]
          },
          "execution_count": 7,
          "metadata": {},
          "output_type": "execute_result"
        }
      ],
      "source": [
        "dataset"
      ]
    },
    {
      "cell_type": "markdown",
      "metadata": {
        "id": "4D2rU4WGZPNx"
      },
      "source": [
        "## **Load Pre-trained Model**"
      ]
    },
    {
      "cell_type": "code",
      "execution_count": null,
      "metadata": {
        "colab": {
          "base_uri": "https://localhost:8080/"
        },
        "id": "k3k2t8HRfsUx",
        "outputId": "394dd159-a6ae-4054-f037-e2b2c93b2f01"
      },
      "outputs": [
        {
          "name": "stderr",
          "output_type": "stream",
          "text": [
            "Some weights of LlamaForSequenceClassification were not initialized from the model checkpoint at TinyLlama/TinyLlama-1.1B-Chat-v1.0 and are newly initialized: ['score.weight']\n",
            "You should probably TRAIN this model on a down-stream task to be able to use it for predictions and inference.\n"
          ]
        }
      ],
      "source": [
        "model_id = \"TinyLlama/TinyLlama-1.1B-Chat-v1.0\"\n",
        "tokenizer = AutoTokenizer.from_pretrained(model_id)\n",
        "tokenizer.pad_token = tokenizer.eos_token\n",
        "\n",
        "bnb_config = BitsAndBytesConfig(\n",
        "    load_in_4bit=True,\n",
        "    bnb_4bit_use_double_quant=True,\n",
        "    bnb_4bit_quant_type=\"nf4\",\n",
        "    bnb_4bit_compute_dtype=torch.float16\n",
        ")\n",
        "\n",
        "model = AutoModelForSequenceClassification.from_pretrained(\n",
        "    model_id,\n",
        "    num_labels=3,\n",
        "    quantization_config=bnb_config,\n",
        "    id2label={0: \"tiêu_cực\", 1: \"trung_lập\", 2: \"tích_cực\"},\n",
        "    label2id={\"tiêu_cực\": 0, \"trung_lập\": 1, \"tích_cực\": 2},\n",
        "    pad_token_id=tokenizer.pad_token_id\n",
        ")\n",
        "\n",
        "model = prepare_model_for_kbit_training(model)\n",
        "peft_config = LoraConfig(\n",
        "    r=8,\n",
        "    lora_alpha=16,\n",
        "    target_modules=[\"q_proj\", \"v_proj\"],\n",
        "    lora_dropout=0.05,\n",
        "    bias=\"none\",\n",
        "    task_type=\"SEQ_CLS\",\n",
        "    inference_mode=False\n",
        ")\n",
        "model = get_peft_model(model, peft_config)"
      ]
    },
    {
      "cell_type": "code",
      "execution_count": null,
      "metadata": {
        "colab": {
          "base_uri": "https://localhost:8080/"
        },
        "id": "3nrnT4dcjfNG",
        "outputId": "b69f3a93-24e2-4fbc-9768-8cb2eb40cb46"
      },
      "outputs": [
        {
          "name": "stdout",
          "output_type": "stream",
          "text": [
            "trainable params: 1,132,544 || all params: 1,035,651,072 || trainable%: 0.1094\n"
          ]
        }
      ],
      "source": [
        "model.print_trainable_parameters()"
      ]
    },
    {
      "cell_type": "code",
      "execution_count": null,
      "metadata": {
        "colab": {
          "base_uri": "https://localhost:8080/",
          "height": 113,
          "referenced_widgets": [
            "0a8d6568e2a347d498010bbfa618f737",
            "8ae7dce01bc64424b4452323c07896d2",
            "44fb34b453a14c8883619593eb84e8de",
            "fcf1bf7d5d234bfe9833199bca459307",
            "cbf4d3384db14d30a99cbd28bca3fea3",
            "5474ed18bc5147ed9a5048a785a142ff",
            "15bfe05248144af4a55f423234b71c30",
            "7a082eacfb9a4cde9e7b056adf6243c6",
            "010b143db06c44a79b2e4f1d3b1f6bb8",
            "4a37e60d4a824cfa9a943c98781a5159",
            "6fc89e2aa39f48bc829a85a728baab14",
            "d72ac43899444700b4f34c6f119204e0",
            "97e585aba4214c8d9d64e1a7111b567c",
            "25c10757c69441319deab37fcdc56a89",
            "98eab2660ba14c71b8da81f9ac9c0b78",
            "84fd024760124776ad3243f0628a3013",
            "e55b27288d9c49a794edc2150048fa34",
            "33de67a4ef5e4074864c0b228a65c03b",
            "9d07567732114e32b3515e237723a5c0",
            "2cceb4fd0eff4293a2293d99e69bd00b",
            "630c0a08885c4ce1b6b44b9e4f0deedd",
            "13468a2dce6c4a8299130564e9ec5c9e",
            "81bda51cb62a422ba6c0dadb76a60295",
            "2842262c8cb8412a8124cbd8604f8d21",
            "ac279ecc4d8c49259434f7d859f08def",
            "e5f9d01b5cda4b36b510c23289698fd7",
            "16a4dda2f41a4ffd953dafe4f8ee713b",
            "b4d71d37ce79459da2a20c692cd04daf",
            "b879e5c3f6d8424f93dda0ca47a34e0a",
            "f6a374e97463465ab016da39a3c74653",
            "09b8ee5171aa4094a4f8715c40cbbe3d",
            "459bb1af72b1468784ca8dca042c9287",
            "ee68cd1414284c619ecc9773ffbdc6ae"
          ]
        },
        "id": "V5_A_dcxf1wl",
        "outputId": "01954d06-5775-45dd-ac97-47b36fa01591"
      },
      "outputs": [
        {
          "name": "stderr",
          "output_type": "stream",
          "text": [
            "Map:   0%|          | 0/1583 [00:00<?, ? examples/s]"
          ]
        },
        {
          "name": "stderr",
          "output_type": "stream",
          "text": [
            "Map: 100%|██████████| 1583/1583 [00:00<00:00, 8710.73 examples/s]\n"
          ]
        }
      ],
      "source": [
        "def tokenize_function(examples):\n",
        "    tokenized = tokenizer(\n",
        "        examples[\"text\"],\n",
        "        truncation=True,\n",
        "        max_length=256,\n",
        "        padding=\"max_length\",\n",
        "        add_special_tokens=True\n",
        "    )\n",
        "    return {\n",
        "        \"input_ids\": tokenized[\"input_ids\"],\n",
        "        \"attention_mask\": tokenized[\"attention_mask\"],\n",
        "        \"labels\": examples[\"label\"]\n",
        "    }\n",
        "\n",
        "tokenized_dataset = dataset.map(\n",
        "    tokenize_function,\n",
        "    batched=True,\n",
        "    remove_columns=[\"text\", \"label\"]\n",
        ")"
      ]
    },
    {
      "cell_type": "code",
      "execution_count": null,
      "metadata": {
        "colab": {
          "base_uri": "https://localhost:8080/"
        },
        "id": "KfIxy7IMwSaJ",
        "outputId": "b57c70c8-943d-4d4b-c86b-b46b9b96ac1c"
      },
      "outputs": [
        {
          "name": "stdout",
          "output_type": "stream",
          "text": [
            "\n",
            "Dataset sau khi xử lý:\n",
            "DatasetDict({\n",
            "    train: Dataset({\n",
            "        features: ['input_ids', 'attention_mask', 'labels'],\n",
            "        num_rows: 11426\n",
            "    })\n",
            "    validation: Dataset({\n",
            "        features: ['input_ids', 'attention_mask', 'labels'],\n",
            "        num_rows: 1583\n",
            "    })\n",
            "    test: Dataset({\n",
            "        features: ['input_ids', 'attention_mask', 'labels'],\n",
            "        num_rows: 3166\n",
            "    })\n",
            "})\n",
            "\n",
            "Ví dụ 1 mẫu train:\n",
            "{'input_ids': [1, 20343, 4005, 29976, 29877, 534, 30097, 29876, 29882, 29871, 30128, 30884, 29891, 29871, 30128, 31556, 869, 2, 2, 2, 2, 2, 2, 2, 2, 2, 2, 2, 2, 2, 2, 2, 2, 2, 2, 2, 2, 2, 2, 2, 2, 2, 2, 2, 2, 2, 2, 2, 2, 2, 2, 2, 2, 2, 2, 2, 2, 2, 2, 2, 2, 2, 2, 2, 2, 2, 2, 2, 2, 2, 2, 2, 2, 2, 2, 2, 2, 2, 2, 2, 2, 2, 2, 2, 2, 2, 2, 2, 2, 2, 2, 2, 2, 2, 2, 2, 2, 2, 2, 2, 2, 2, 2, 2, 2, 2, 2, 2, 2, 2, 2, 2, 2, 2, 2, 2, 2, 2, 2, 2, 2, 2, 2, 2, 2, 2, 2, 2, 2, 2, 2, 2, 2, 2, 2, 2, 2, 2, 2, 2, 2, 2, 2, 2, 2, 2, 2, 2, 2, 2, 2, 2, 2, 2, 2, 2, 2, 2, 2, 2, 2, 2, 2, 2, 2, 2, 2, 2, 2, 2, 2, 2, 2, 2, 2, 2, 2, 2, 2, 2, 2, 2, 2, 2, 2, 2, 2, 2, 2, 2, 2, 2, 2, 2, 2, 2, 2, 2, 2, 2, 2, 2, 2, 2, 2, 2, 2, 2, 2, 2, 2, 2, 2, 2, 2, 2, 2, 2, 2, 2, 2, 2, 2, 2, 2, 2, 2, 2, 2, 2, 2, 2, 2, 2, 2, 2, 2, 2, 2, 2, 2, 2, 2, 2, 2, 2, 2, 2, 2, 2, 2, 2, 2, 2, 2, 2], 'attention_mask': [1, 1, 1, 1, 1, 1, 1, 1, 1, 1, 1, 1, 1, 1, 1, 1, 1, 0, 0, 0, 0, 0, 0, 0, 0, 0, 0, 0, 0, 0, 0, 0, 0, 0, 0, 0, 0, 0, 0, 0, 0, 0, 0, 0, 0, 0, 0, 0, 0, 0, 0, 0, 0, 0, 0, 0, 0, 0, 0, 0, 0, 0, 0, 0, 0, 0, 0, 0, 0, 0, 0, 0, 0, 0, 0, 0, 0, 0, 0, 0, 0, 0, 0, 0, 0, 0, 0, 0, 0, 0, 0, 0, 0, 0, 0, 0, 0, 0, 0, 0, 0, 0, 0, 0, 0, 0, 0, 0, 0, 0, 0, 0, 0, 0, 0, 0, 0, 0, 0, 0, 0, 0, 0, 0, 0, 0, 0, 0, 0, 0, 0, 0, 0, 0, 0, 0, 0, 0, 0, 0, 0, 0, 0, 0, 0, 0, 0, 0, 0, 0, 0, 0, 0, 0, 0, 0, 0, 0, 0, 0, 0, 0, 0, 0, 0, 0, 0, 0, 0, 0, 0, 0, 0, 0, 0, 0, 0, 0, 0, 0, 0, 0, 0, 0, 0, 0, 0, 0, 0, 0, 0, 0, 0, 0, 0, 0, 0, 0, 0, 0, 0, 0, 0, 0, 0, 0, 0, 0, 0, 0, 0, 0, 0, 0, 0, 0, 0, 0, 0, 0, 0, 0, 0, 0, 0, 0, 0, 0, 0, 0, 0, 0, 0, 0, 0, 0, 0, 0, 0, 0, 0, 0, 0, 0, 0, 0, 0, 0, 0, 0, 0, 0, 0, 0, 0, 0], 'labels': 2}\n"
          ]
        }
      ],
      "source": [
        "print(\"\\nDataset sau khi xử lý:\")\n",
        "print(tokenized_dataset)\n",
        "\n",
        "print(\"\\nVí dụ 1 mẫu train:\")\n",
        "print(tokenized_dataset[\"train\"][0])"
      ]
    },
    {
      "cell_type": "markdown",
      "metadata": {
        "id": "GDsGrnzRZrAV"
      },
      "source": [
        "### **Test pre-trained model**"
      ]
    },
    {
      "cell_type": "code",
      "execution_count": null,
      "metadata": {
        "id": "vRzvzVMDmG-P"
      },
      "outputs": [],
      "source": [
        "def test_output_before_training(model, tokenizer, samples=None):\n",
        "    if samples is None:\n",
        "        samples = [\n",
        "            \"Giảng viên giảng bài dễ hiểu và nhiệt tình.\",\n",
        "            \"Em cảm thấy rất áp lực với lịch học dày đặc.\",\n",
        "            \"Bình thường, không có gì đặc biệt lắm.\"\n",
        "        ]\n",
        "\n",
        "    model.eval()\n",
        "    print(\"==> Test kết quả dự đoán (model chưa được fine-tuned):\\n\")\n",
        "    for i, text in enumerate(samples, 1):\n",
        "        inputs = tokenizer(text, return_tensors=\"pt\", truncation=True, max_length=256, padding=True).to(model.device)\n",
        "        with torch.no_grad():\n",
        "            outputs = model(**inputs)\n",
        "            pred_class = torch.argmax(outputs.logits, dim=-1).item()\n",
        "            pred_label = model.config.id2label[pred_class]\n",
        "        print(f\"{i}. \\\"{text}\\\"\\n→ Dự đoán: {pred_label} (label id: {pred_class})\\n\")\n"
      ]
    },
    {
      "cell_type": "code",
      "execution_count": null,
      "metadata": {
        "colab": {
          "base_uri": "https://localhost:8080/"
        },
        "id": "dLr-iB-dmPaS",
        "outputId": "3748c6dd-c4c6-4466-c1bc-5ad8533da5d2"
      },
      "outputs": [
        {
          "name": "stdout",
          "output_type": "stream",
          "text": [
            "==> Test kết quả dự đoán (model chưa được fine-tuned):\n",
            "\n",
            "1. \"Giảng viên giảng bài dễ hiểu và nhiệt tình.\"\n",
            "→ Dự đoán: tiêu_cực (label id: 0)\n",
            "\n",
            "2. \"Em cảm thấy rất áp lực với lịch học dày đặc.\"\n",
            "→ Dự đoán: tích_cực (label id: 2)\n",
            "\n",
            "3. \"Bình thường, không có gì đặc biệt lắm.\"\n",
            "→ Dự đoán: tiêu_cực (label id: 0)\n",
            "\n"
          ]
        }
      ],
      "source": [
        "test_output_before_training(model, tokenizer)"
      ]
    },
    {
      "cell_type": "markdown",
      "metadata": {
        "id": "xzsiF9pMZzRq"
      },
      "source": [
        "## **Training**"
      ]
    },
    {
      "cell_type": "markdown",
      "metadata": {
        "id": "8NXxWaiFZ6DH"
      },
      "source": [
        "### **Config & Train**"
      ]
    },
    {
      "cell_type": "code",
      "execution_count": null,
      "metadata": {
        "id": "2KedWwZNtiFh"
      },
      "outputs": [],
      "source": [
        "data_collator = DataCollatorWithPadding(\n",
        "    tokenizer=tokenizer,\n",
        "    pad_to_multiple_of=8,\n",
        "    return_tensors=\"pt\"\n",
        ")"
      ]
    },
    {
      "cell_type": "code",
      "execution_count": null,
      "metadata": {
        "id": "Bp47JbNXjBD3"
      },
      "outputs": [],
      "source": [
        "def compute_metrics(p):\n",
        "    predictions, labels = p\n",
        "    preds = np.argmax(predictions, axis=1)\n",
        "    return {\"accuracy\": accuracy_score(labels, preds)}"
      ]
    },
    {
      "cell_type": "code",
      "execution_count": null,
      "metadata": {
        "id": "UTOQPLxq0oYI"
      },
      "outputs": [],
      "source": [
        "class LossLoggerCallback(TrainerCallback):\n",
        "    def on_log(self, args, state, control, logs=None, **kwargs):\n",
        "        if logs and \"loss\" in logs:\n",
        "            print(f\"[Step {state.global_step:>5}] Loss: {logs['loss']:.4f}\")"
      ]
    },
    {
      "cell_type": "code",
      "execution_count": null,
      "metadata": {
        "id": "hcGtoogYf3ya"
      },
      "outputs": [],
      "source": [
        "training_args = TrainingArguments(\n",
        "    output_dir=\"./results\",\n",
        "    eval_strategy=\"epoch\",\n",
        "    per_device_train_batch_size=2,\n",
        "    per_device_eval_batch_size=2,\n",
        "    gradient_accumulation_steps=4,\n",
        "    num_train_epochs=1,\n",
        "    learning_rate=2e-5,\n",
        "    weight_decay=0.01,\n",
        "    fp16=True,\n",
        "    gradient_checkpointing=True,\n",
        "    remove_unused_columns=True,\n",
        "    logging_dir=\"./logs\",\n",
        "    logging_steps=50,\n",
        "    save_strategy=\"epoch\",\n",
        "    load_best_model_at_end=True,\n",
        "    report_to=\"none\",\n",
        "    optim=\"paged_adamw_8bit\",\n",
        "    label_names=[\"labels\"]\n",
        ")\n",
        "\n",
        "trainer = Trainer(\n",
        "    model=model,\n",
        "    args=training_args,\n",
        "    train_dataset=tokenized_dataset[\"train\"],\n",
        "    eval_dataset=tokenized_dataset[\"validation\"],\n",
        "    compute_metrics=compute_metrics,\n",
        "    data_collator=data_collator,\n",
        "    callbacks=[LossLoggerCallback()]\n",
        ")"
      ]
    },
    {
      "cell_type": "code",
      "execution_count": null,
      "metadata": {
        "colab": {
          "base_uri": "https://localhost:8080/",
          "height": 644
        },
        "id": "y6zYbGqVzkC8",
        "outputId": "8accef49-11b7-4b00-8a79-d1a2a0463ab5"
      },
      "outputs": [
        {
          "name": "stderr",
          "output_type": "stream",
          "text": [
            "`use_cache=True` is incompatible with gradient checkpointing. Setting `use_cache=False`.\n"
          ]
        },
        {
          "data": {
            "text/html": [
              "\n",
              "    <div>\n",
              "      \n",
              "      <progress value='1428' max='1428' style='width:300px; height:20px; vertical-align: middle;'></progress>\n",
              "      [1428/1428 20:11, Epoch 0/1]\n",
              "    </div>\n",
              "    <table border=\"1\" class=\"dataframe\">\n",
              "  <thead>\n",
              " <tr style=\"text-align: left;\">\n",
              "      <th>Epoch</th>\n",
              "      <th>Training Loss</th>\n",
              "      <th>Validation Loss</th>\n",
              "      <th>Accuracy</th>\n",
              "    </tr>\n",
              "  </thead>\n",
              "  <tbody>\n",
              "    <tr>\n",
              "      <td>0</td>\n",
              "      <td>0.315300</td>\n",
              "      <td>0.361517</td>\n",
              "      <td>0.889450</td>\n",
              "    </tr>\n",
              "  </tbody>\n",
              "</table><p>"
            ],
            "text/plain": [
              "<IPython.core.display.HTML object>"
            ]
          },
          "metadata": {},
          "output_type": "display_data"
        },
        {
          "name": "stdout",
          "output_type": "stream",
          "text": [
            "[Step    50] Loss: 0.8701\n",
            "[Step   100] Loss: 0.8140\n",
            "[Step   150] Loss: 0.7435\n",
            "[Step   200] Loss: 0.6627\n",
            "[Step   250] Loss: 0.5857\n",
            "[Step   300] Loss: 0.5121\n",
            "[Step   350] Loss: 0.4980\n",
            "[Step   400] Loss: 0.3722\n",
            "[Step   450] Loss: 0.3914\n",
            "[Step   500] Loss: 0.3334\n",
            "[Step   550] Loss: 0.4315\n",
            "[Step   600] Loss: 0.3760\n",
            "[Step   650] Loss: 0.3143\n",
            "[Step   700] Loss: 0.4671\n",
            "[Step   750] Loss: 0.3661\n",
            "[Step   800] Loss: 0.3844\n",
            "[Step   850] Loss: 0.3439\n",
            "[Step   900] Loss: 0.3587\n",
            "[Step   950] Loss: 0.3642\n",
            "[Step  1000] Loss: 0.3569\n",
            "[Step  1050] Loss: 0.4159\n",
            "[Step  1100] Loss: 0.3499\n",
            "[Step  1150] Loss: 0.3674\n",
            "[Step  1200] Loss: 0.4149\n",
            "[Step  1250] Loss: 0.4712\n",
            "[Step  1300] Loss: 0.2821\n",
            "[Step  1350] Loss: 0.3473\n",
            "[Step  1400] Loss: 0.3153\n"
          ]
        },
        {
          "data": {
            "text/plain": [
              "TrainOutput(global_step=1428, training_loss=0.4428504211228101, metrics={'train_runtime': 1212.3976, 'train_samples_per_second': 9.424, 'train_steps_per_second': 1.178, 'total_flos': 1.7022865278763008e+16, 'train_loss': 0.4428504211228101, 'epoch': 0.9998249606161387})"
            ]
          },
          "execution_count": 20,
          "metadata": {},
          "output_type": "execute_result"
        }
      ],
      "source": [
        "trainer.train()"
      ]
    },
    {
      "cell_type": "code",
      "execution_count": null,
      "metadata": {
        "id": "s3kv8jYRf8iX"
      },
      "outputs": [],
      "source": [
        "# torch.cuda.empty_cache()"
      ]
    },
    {
      "cell_type": "markdown",
      "metadata": {
        "id": "S2RPPko4aGl1"
      },
      "source": [
        "### **Evaluate on Test**"
      ]
    },
    {
      "cell_type": "code",
      "execution_count": null,
      "metadata": {
        "id": "tEqxFsPwgAbG",
        "outputId": "d0c5320a-95aa-444e-8f72-e0b1a30b0e7b"
      },
      "outputs": [
        {
          "name": "stdout",
          "output_type": "stream",
          "text": [
            "→ Test set: 3166 samples\n"
          ]
        }
      ],
      "source": [
        "test_dataset = tokenized_dataset[\"test\"]\n",
        "print(\"→ Test set:\", len(test_dataset), \"samples\")"
      ]
    },
    {
      "cell_type": "code",
      "execution_count": null,
      "metadata": {
        "id": "xe-a-Q0iYdPt",
        "outputId": "12309bd1-0810-4c0f-d077-168ce5717ad0"
      },
      "outputs": [
        {
          "name": "stdout",
          "output_type": "stream",
          "text": [
            "\n",
            "Evaluate on test set:\n",
            "{'eval_loss': 0.4127, 'eval_accuracy': 0.879, 'eval_runtime': 95.8017, 'eval_samples_per_second': 33.047, 'eval_steps_per_second': 16.524, 'epoch': 0.9998}\n"
          ]
        }
      ],
      "source": [
        "test_results = trainer.evaluate(eval_dataset=test_dataset)\n",
        "print(\"\\nEvaluate on test set:\")\n",
        "print({k: round(v, 4) for k, v in test_results.items()})"
      ]
    },
    {
      "cell_type": "code",
      "execution_count": null,
      "metadata": {
        "id": "cOkUPSrGgF9z",
        "outputId": "e9caa90c-bc8e-4616-8bcf-860413de631a"
      },
      "outputs": [
        {
          "name": "stdout",
          "output_type": "stream",
          "text": [
            "\n",
            "Kết quả phân loại cảm xúc:\n",
            "1. Giảng viên giảng bài rất dễ hiểu, em cảm thấy hứng thú với môn học.\n",
            "→ tích_cực\n",
            "\n",
            "2. Lịch học quá dày, em cảm thấy rất mệt mỏi và không tiếp thu được bài.\n",
            "→ tiêu_cực\n",
            "\n",
            "3. Em thấy môn học này khá ổn, không có gì đặc biệt.\n",
            "→ tiêu_cực\n",
            "\n",
            "4. Thầy cô tận tình, tuy nhiên hệ thống lớp học trực tuyến hay bị lỗi.\n",
            "→ tiêu_cực\n",
            "\n",
            "5. Môn này khó quá, em học mãi không hiểu gì hết.\n",
            "→ tiêu_cực\n",
            "\n",
            "6. Quá tuyệt vời, không thể nào tốt hơn\n",
            "→ tích_cực\n",
            "\n"
          ]
        }
      ],
      "source": [
        "test_samples = [\n",
        "    \"Giảng viên giảng bài rất dễ hiểu, em cảm thấy hứng thú với môn học.\",\n",
        "    \"Lịch học quá dày, em cảm thấy rất mệt mỏi và không tiếp thu được bài.\",\n",
        "    \"Em thấy môn học này khá ổn, không có gì đặc biệt.\",\n",
        "    \"Thầy cô tận tình, tuy nhiên hệ thống lớp học trực tuyến hay bị lỗi.\",\n",
        "    \"Môn này khó quá, em học mãi không hiểu gì hết.\",\n",
        "    \"Quá tuyệt vời, không thể nào tốt hơn\"\n",
        "]\n",
        "\n",
        "print(\"\\nKết quả phân loại cảm xúc:\")\n",
        "model.eval()\n",
        "for i, text in enumerate(test_samples, 1):\n",
        "    inputs = tokenizer(text, return_tensors=\"pt\", truncation=True, max_length=256).to(model.device)\n",
        "    with torch.no_grad():\n",
        "        outputs = model(**inputs)\n",
        "    predicted_class = torch.argmax(outputs.logits).item()\n",
        "    predicted_label = model.config.id2label[predicted_class]\n",
        "    print(f\"{i}. {text}\\n→ {predicted_label}\\n\")"
      ]
    },
    {
      "cell_type": "code",
      "execution_count": null,
      "metadata": {
        "id": "BsXe7HbOgfKN",
        "outputId": "f14e48ae-a645-4291-dfbc-6c3af017aaa6"
      },
      "outputs": [
        {
          "data": {
            "text/plain": [
              "('./fine_tuned_model/tokenizer_config.json',\n",
              " './fine_tuned_model/special_tokens_map.json',\n",
              " './fine_tuned_model/chat_template.jinja',\n",
              " './fine_tuned_model/tokenizer.json')"
            ]
          },
          "execution_count": 34,
          "metadata": {},
          "output_type": "execute_result"
        }
      ],
      "source": [
        "model_save_path = \"./fine_tuned_model\"\n",
        "model.save_pretrained(model_save_path, safe_serialization=True)\n",
        "tokenizer.save_pretrained(model_save_path)"
      ]
    },
    {
      "cell_type": "markdown",
      "metadata": {
        "id": "KHy2cnhQaSdb"
      },
      "source": [
        "## **Inference**"
      ]
    },
    {
      "cell_type": "code",
      "execution_count": null,
      "metadata": {
        "id": "0ZP7mrS5gito",
        "outputId": "03380404-8505-494a-ac40-192de0e8fd83"
      },
      "outputs": [
        {
          "name": "stderr",
          "output_type": "stream",
          "text": [
            "Some weights of LlamaForSequenceClassification were not initialized from the model checkpoint at TinyLlama/TinyLlama-1.1B-Chat-v1.0 and are newly initialized: ['score.weight']\n",
            "You should probably TRAIN this model on a down-stream task to be able to use it for predictions and inference.\n"
          ]
        }
      ],
      "source": [
        "model_save_path = \"./fine_tuned_model\"\n",
        "\n",
        "bnb_config = BitsAndBytesConfig(\n",
        "    load_in_4bit=True,\n",
        "    bnb_4bit_use_double_quant=True,\n",
        "    bnb_4bit_quant_type=\"nf4\",\n",
        "    bnb_4bit_compute_dtype=torch.float16\n",
        ")\n",
        "\n",
        "base_model = AutoModelForSequenceClassification.from_pretrained(\n",
        "    \"TinyLlama/TinyLlama-1.1B-Chat-v1.0\",\n",
        "    quantization_config=bnb_config,\n",
        "    num_labels=3,\n",
        "    id2label={0: \"tiêu_cực\", 1: \"trung_lập\", 2: \"tích_cực\"},\n",
        "    device_map=\"auto\"\n",
        ")\n",
        "\n",
        "model = PeftModel.from_pretrained(base_model, model_save_path)\n",
        "model = model.merge_and_unload()\n",
        "\n",
        "tokenizer = AutoTokenizer.from_pretrained(model_save_path)"
      ]
    },
    {
      "cell_type": "code",
      "execution_count": null,
      "metadata": {
        "id": "Ddb-Nn3DYdPu"
      },
      "outputs": [],
      "source": [
        "def predict_sentiment(text, model, tokenizer):\n",
        "    inputs = tokenizer(\n",
        "        text,\n",
        "        truncation=True,\n",
        "        max_length=256,\n",
        "        padding=True,\n",
        "        return_tensors=\"pt\"\n",
        "    ).to(model.device)\n",
        "\n",
        "    model.eval()\n",
        "    with torch.no_grad():\n",
        "        outputs = model(**inputs)\n",
        "\n",
        "    probabilities = torch.nn.functional.softmax(outputs.logits, dim=-1)\n",
        "    predicted_class = torch.argmax(probabilities).item()\n",
        "    predicted_label = model.config.id2label[predicted_class]\n",
        "    confidence = probabilities[0][predicted_class].item()\n",
        "\n",
        "    return {\n",
        "        \"text\": text,\n",
        "        \"label\": predicted_label,\n",
        "        \"confidence\": round(confidence, 4),\n",
        "        \"probabilities\": {\n",
        "            \"tiêu_cực\": round(probabilities[0][0].item(), 4),\n",
        "            \"trung_lập\": round(probabilities[0][1].item(), 4),\n",
        "            \"tích_cực\": round(probabilities[0][2].item(), 4)\n",
        "        }\n",
        "    }"
      ]
    },
    {
      "cell_type": "code",
      "execution_count": null,
      "metadata": {
        "id": "YrWH05WOYdPu",
        "outputId": "193b083a-e8a3-4c1c-b676-80d3c1c010c4"
      },
      "outputs": [
        {
          "name": "stdout",
          "output_type": "stream",
          "text": [
            "→ Văn bản: Giáo viên dạy rất nhiệt tình và dễ hiểu\n",
            "   Nhãn dự đoán: tích_cực (Độ tin cậy: 90.82%)\n",
            "   Phân phối xác suất: {'tiêu_cực': 0.0535, 'trung_lập': 0.0381, 'tích_cực': 0.9082}\n",
            "\n",
            "→ Văn bản: Phòng học quá chật hẹp và thiếu trang thiết bị\n",
            "   Nhãn dự đoán: tiêu_cực (Độ tin cậy: 85.21%)\n",
            "   Phân phối xác suất: {'tiêu_cực': 0.8521, 'trung_lập': 0.005, 'tích_cực': 0.1431}\n",
            "\n",
            "→ Văn bản: Môn học này khá thú vị nhưng lượng bài tập hơi nhiều\n",
            "   Nhãn dự đoán: tích_cực (Độ tin cậy: 83.11%)\n",
            "   Phân phối xác suất: {'tiêu_cực': 0.1355, 'trung_lập': 0.0334, 'tích_cực': 0.8311}\n",
            "\n",
            "→ Văn bản: Em thấy bình thường\n",
            "   Nhãn dự đoán: tích_cực (Độ tin cậy: 59.33%)\n",
            "   Phân phối xác suất: {'tiêu_cực': 0.2177, 'trung_lập': 0.1891, 'tích_cực': 0.5933}\n",
            "\n",
            "→ Văn bản: Giảng viên nói về môn học này, nghe như đang kể chuyện cổ tích, khó tin nhưng thú vị.\n",
            "   Nhãn dự đoán: tiêu_cực (Độ tin cậy: 66.36%)\n",
            "   Phân phối xác suất: {'tiêu_cực': 0.6636, 'trung_lập': 0.0477, 'tích_cực': 0.2891}\n",
            "\n",
            "→ Văn bản: Cơ sở vật chất tuyệt vời, chỉ thiếu mỗi việc có thể đưa tôi lên mặt trăng.\n",
            "   Nhãn dự đoán: tiêu_cực (Độ tin cậy: 69.43%)\n",
            "   Phân phối xác suất: {'tiêu_cực': 0.6943, 'trung_lập': 0.1014, 'tích_cực': 0.2043}\n",
            "\n",
            "→ Văn bản: Môn học này, tôi chắc chắn là mình đã học, nhưng liệu có thể nhớ được không thì chưa biết.\n",
            "   Nhãn dự đoán: tiêu_cực (Độ tin cậy: 74.95%)\n",
            "   Phân phối xác suất: {'tiêu_cực': 0.7495, 'trung_lập': 0.0477, 'tích_cực': 0.2028}\n",
            "\n"
          ]
        }
      ],
      "source": [
        "test_samples = [\n",
        "    \"Giáo viên dạy rất nhiệt tình và dễ hiểu\",\n",
        "    \"Phòng học quá chật hẹp và thiếu trang thiết bị\",\n",
        "    \"Môn học này khá thú vị nhưng lượng bài tập hơi nhiều\",\n",
        "    \"Em thấy bình thường\",\n",
        "    \"Giảng viên nói về môn học này, nghe như đang kể chuyện cổ tích, khó tin nhưng thú vị.\",\n",
        "    \"Cơ sở vật chất tuyệt vời, chỉ thiếu mỗi việc có thể đưa tôi lên mặt trăng.\",\n",
        "    \"Môn học này, tôi chắc chắn là mình đã học, nhưng liệu có thể nhớ được không thì chưa biết.\"\n",
        "]\n",
        "\n",
        "\n",
        "for sample in test_samples:\n",
        "    result = predict_sentiment(sample, model, tokenizer)\n",
        "    print(f\"→ Văn bản: {result['text']}\")\n",
        "    print(f\"   Nhãn dự đoán: {result['label']} (Độ tin cậy: {result['confidence']*100:.2f}%)\")\n",
        "    print(f\"   Phân phối xác suất: {result['probabilities']}\\n\")"
      ]
    }
  ],
  "metadata": {
    "accelerator": "GPU",
    "colab": {
      "gpuType": "T4",
      "provenance": []
    },
    "kernelspec": {
      "display_name": "itune-ielts",
      "language": "python",
      "name": "python3"
    },
    "language_info": {
      "codemirror_mode": {
        "name": "ipython",
        "version": 3
      },
      "file_extension": ".py",
      "mimetype": "text/x-python",
      "name": "python",
      "nbconvert_exporter": "python",
      "pygments_lexer": "ipython3",
      "version": "3.10.16"
    },
    "widgets": {
      "application/vnd.jupyter.widget-state+json": {
        "010b143db06c44a79b2e4f1d3b1f6bb8": {
          "model_module": "@jupyter-widgets/controls",
          "model_module_version": "1.5.0",
          "model_name": "ProgressStyleModel",
          "state": {
            "_model_module": "@jupyter-widgets/controls",
            "_model_module_version": "1.5.0",
            "_model_name": "ProgressStyleModel",
            "_view_count": null,
            "_view_module": "@jupyter-widgets/base",
            "_view_module_version": "1.2.0",
            "_view_name": "StyleView",
            "bar_color": null,
            "description_width": ""
          }
        },
        "09b8ee5171aa4094a4f8715c40cbbe3d": {
          "model_module": "@jupyter-widgets/controls",
          "model_module_version": "1.5.0",
          "model_name": "ProgressStyleModel",
          "state": {
            "_model_module": "@jupyter-widgets/controls",
            "_model_module_version": "1.5.0",
            "_model_name": "ProgressStyleModel",
            "_view_count": null,
            "_view_module": "@jupyter-widgets/base",
            "_view_module_version": "1.2.0",
            "_view_name": "StyleView",
            "bar_color": null,
            "description_width": ""
          }
        },
        "0a8d6568e2a347d498010bbfa618f737": {
          "model_module": "@jupyter-widgets/controls",
          "model_module_version": "1.5.0",
          "model_name": "HBoxModel",
          "state": {
            "_dom_classes": [],
            "_model_module": "@jupyter-widgets/controls",
            "_model_module_version": "1.5.0",
            "_model_name": "HBoxModel",
            "_view_count": null,
            "_view_module": "@jupyter-widgets/controls",
            "_view_module_version": "1.5.0",
            "_view_name": "HBoxView",
            "box_style": "",
            "children": [
              "IPY_MODEL_8ae7dce01bc64424b4452323c07896d2",
              "IPY_MODEL_44fb34b453a14c8883619593eb84e8de",
              "IPY_MODEL_fcf1bf7d5d234bfe9833199bca459307"
            ],
            "layout": "IPY_MODEL_cbf4d3384db14d30a99cbd28bca3fea3"
          }
        },
        "13468a2dce6c4a8299130564e9ec5c9e": {
          "model_module": "@jupyter-widgets/controls",
          "model_module_version": "1.5.0",
          "model_name": "DescriptionStyleModel",
          "state": {
            "_model_module": "@jupyter-widgets/controls",
            "_model_module_version": "1.5.0",
            "_model_name": "DescriptionStyleModel",
            "_view_count": null,
            "_view_module": "@jupyter-widgets/base",
            "_view_module_version": "1.2.0",
            "_view_name": "StyleView",
            "description_width": ""
          }
        },
        "15bfe05248144af4a55f423234b71c30": {
          "model_module": "@jupyter-widgets/controls",
          "model_module_version": "1.5.0",
          "model_name": "DescriptionStyleModel",
          "state": {
            "_model_module": "@jupyter-widgets/controls",
            "_model_module_version": "1.5.0",
            "_model_name": "DescriptionStyleModel",
            "_view_count": null,
            "_view_module": "@jupyter-widgets/base",
            "_view_module_version": "1.2.0",
            "_view_name": "StyleView",
            "description_width": ""
          }
        },
        "16a4dda2f41a4ffd953dafe4f8ee713b": {
          "model_module": "@jupyter-widgets/base",
          "model_module_version": "1.2.0",
          "model_name": "LayoutModel",
          "state": {
            "_model_module": "@jupyter-widgets/base",
            "_model_module_version": "1.2.0",
            "_model_name": "LayoutModel",
            "_view_count": null,
            "_view_module": "@jupyter-widgets/base",
            "_view_module_version": "1.2.0",
            "_view_name": "LayoutView",
            "align_content": null,
            "align_items": null,
            "align_self": null,
            "border": null,
            "bottom": null,
            "display": null,
            "flex": null,
            "flex_flow": null,
            "grid_area": null,
            "grid_auto_columns": null,
            "grid_auto_flow": null,
            "grid_auto_rows": null,
            "grid_column": null,
            "grid_gap": null,
            "grid_row": null,
            "grid_template_areas": null,
            "grid_template_columns": null,
            "grid_template_rows": null,
            "height": null,
            "justify_content": null,
            "justify_items": null,
            "left": null,
            "margin": null,
            "max_height": null,
            "max_width": null,
            "min_height": null,
            "min_width": null,
            "object_fit": null,
            "object_position": null,
            "order": null,
            "overflow": null,
            "overflow_x": null,
            "overflow_y": null,
            "padding": null,
            "right": null,
            "top": null,
            "visibility": null,
            "width": null
          }
        },
        "25c10757c69441319deab37fcdc56a89": {
          "model_module": "@jupyter-widgets/controls",
          "model_module_version": "1.5.0",
          "model_name": "FloatProgressModel",
          "state": {
            "_dom_classes": [],
            "_model_module": "@jupyter-widgets/controls",
            "_model_module_version": "1.5.0",
            "_model_name": "FloatProgressModel",
            "_view_count": null,
            "_view_module": "@jupyter-widgets/controls",
            "_view_module_version": "1.5.0",
            "_view_name": "ProgressView",
            "bar_style": "success",
            "description": "",
            "description_tooltip": null,
            "layout": "IPY_MODEL_9d07567732114e32b3515e237723a5c0",
            "max": 1583,
            "min": 0,
            "orientation": "horizontal",
            "style": "IPY_MODEL_2cceb4fd0eff4293a2293d99e69bd00b",
            "value": 1583
          }
        },
        "2842262c8cb8412a8124cbd8604f8d21": {
          "model_module": "@jupyter-widgets/controls",
          "model_module_version": "1.5.0",
          "model_name": "HTMLModel",
          "state": {
            "_dom_classes": [],
            "_model_module": "@jupyter-widgets/controls",
            "_model_module_version": "1.5.0",
            "_model_name": "HTMLModel",
            "_view_count": null,
            "_view_module": "@jupyter-widgets/controls",
            "_view_module_version": "1.5.0",
            "_view_name": "HTMLView",
            "description": "",
            "description_tooltip": null,
            "layout": "IPY_MODEL_b4d71d37ce79459da2a20c692cd04daf",
            "placeholder": "​",
            "style": "IPY_MODEL_b879e5c3f6d8424f93dda0ca47a34e0a",
            "value": "Map: 100%"
          }
        },
        "2cceb4fd0eff4293a2293d99e69bd00b": {
          "model_module": "@jupyter-widgets/controls",
          "model_module_version": "1.5.0",
          "model_name": "ProgressStyleModel",
          "state": {
            "_model_module": "@jupyter-widgets/controls",
            "_model_module_version": "1.5.0",
            "_model_name": "ProgressStyleModel",
            "_view_count": null,
            "_view_module": "@jupyter-widgets/base",
            "_view_module_version": "1.2.0",
            "_view_name": "StyleView",
            "bar_color": null,
            "description_width": ""
          }
        },
        "33de67a4ef5e4074864c0b228a65c03b": {
          "model_module": "@jupyter-widgets/controls",
          "model_module_version": "1.5.0",
          "model_name": "DescriptionStyleModel",
          "state": {
            "_model_module": "@jupyter-widgets/controls",
            "_model_module_version": "1.5.0",
            "_model_name": "DescriptionStyleModel",
            "_view_count": null,
            "_view_module": "@jupyter-widgets/base",
            "_view_module_version": "1.2.0",
            "_view_name": "StyleView",
            "description_width": ""
          }
        },
        "44fb34b453a14c8883619593eb84e8de": {
          "model_module": "@jupyter-widgets/controls",
          "model_module_version": "1.5.0",
          "model_name": "FloatProgressModel",
          "state": {
            "_dom_classes": [],
            "_model_module": "@jupyter-widgets/controls",
            "_model_module_version": "1.5.0",
            "_model_name": "FloatProgressModel",
            "_view_count": null,
            "_view_module": "@jupyter-widgets/controls",
            "_view_module_version": "1.5.0",
            "_view_name": "ProgressView",
            "bar_style": "success",
            "description": "",
            "description_tooltip": null,
            "layout": "IPY_MODEL_7a082eacfb9a4cde9e7b056adf6243c6",
            "max": 11426,
            "min": 0,
            "orientation": "horizontal",
            "style": "IPY_MODEL_010b143db06c44a79b2e4f1d3b1f6bb8",
            "value": 11426
          }
        },
        "459bb1af72b1468784ca8dca042c9287": {
          "model_module": "@jupyter-widgets/base",
          "model_module_version": "1.2.0",
          "model_name": "LayoutModel",
          "state": {
            "_model_module": "@jupyter-widgets/base",
            "_model_module_version": "1.2.0",
            "_model_name": "LayoutModel",
            "_view_count": null,
            "_view_module": "@jupyter-widgets/base",
            "_view_module_version": "1.2.0",
            "_view_name": "LayoutView",
            "align_content": null,
            "align_items": null,
            "align_self": null,
            "border": null,
            "bottom": null,
            "display": null,
            "flex": null,
            "flex_flow": null,
            "grid_area": null,
            "grid_auto_columns": null,
            "grid_auto_flow": null,
            "grid_auto_rows": null,
            "grid_column": null,
            "grid_gap": null,
            "grid_row": null,
            "grid_template_areas": null,
            "grid_template_columns": null,
            "grid_template_rows": null,
            "height": null,
            "justify_content": null,
            "justify_items": null,
            "left": null,
            "margin": null,
            "max_height": null,
            "max_width": null,
            "min_height": null,
            "min_width": null,
            "object_fit": null,
            "object_position": null,
            "order": null,
            "overflow": null,
            "overflow_x": null,
            "overflow_y": null,
            "padding": null,
            "right": null,
            "top": null,
            "visibility": null,
            "width": null
          }
        },
        "4a37e60d4a824cfa9a943c98781a5159": {
          "model_module": "@jupyter-widgets/base",
          "model_module_version": "1.2.0",
          "model_name": "LayoutModel",
          "state": {
            "_model_module": "@jupyter-widgets/base",
            "_model_module_version": "1.2.0",
            "_model_name": "LayoutModel",
            "_view_count": null,
            "_view_module": "@jupyter-widgets/base",
            "_view_module_version": "1.2.0",
            "_view_name": "LayoutView",
            "align_content": null,
            "align_items": null,
            "align_self": null,
            "border": null,
            "bottom": null,
            "display": null,
            "flex": null,
            "flex_flow": null,
            "grid_area": null,
            "grid_auto_columns": null,
            "grid_auto_flow": null,
            "grid_auto_rows": null,
            "grid_column": null,
            "grid_gap": null,
            "grid_row": null,
            "grid_template_areas": null,
            "grid_template_columns": null,
            "grid_template_rows": null,
            "height": null,
            "justify_content": null,
            "justify_items": null,
            "left": null,
            "margin": null,
            "max_height": null,
            "max_width": null,
            "min_height": null,
            "min_width": null,
            "object_fit": null,
            "object_position": null,
            "order": null,
            "overflow": null,
            "overflow_x": null,
            "overflow_y": null,
            "padding": null,
            "right": null,
            "top": null,
            "visibility": null,
            "width": null
          }
        },
        "5474ed18bc5147ed9a5048a785a142ff": {
          "model_module": "@jupyter-widgets/base",
          "model_module_version": "1.2.0",
          "model_name": "LayoutModel",
          "state": {
            "_model_module": "@jupyter-widgets/base",
            "_model_module_version": "1.2.0",
            "_model_name": "LayoutModel",
            "_view_count": null,
            "_view_module": "@jupyter-widgets/base",
            "_view_module_version": "1.2.0",
            "_view_name": "LayoutView",
            "align_content": null,
            "align_items": null,
            "align_self": null,
            "border": null,
            "bottom": null,
            "display": null,
            "flex": null,
            "flex_flow": null,
            "grid_area": null,
            "grid_auto_columns": null,
            "grid_auto_flow": null,
            "grid_auto_rows": null,
            "grid_column": null,
            "grid_gap": null,
            "grid_row": null,
            "grid_template_areas": null,
            "grid_template_columns": null,
            "grid_template_rows": null,
            "height": null,
            "justify_content": null,
            "justify_items": null,
            "left": null,
            "margin": null,
            "max_height": null,
            "max_width": null,
            "min_height": null,
            "min_width": null,
            "object_fit": null,
            "object_position": null,
            "order": null,
            "overflow": null,
            "overflow_x": null,
            "overflow_y": null,
            "padding": null,
            "right": null,
            "top": null,
            "visibility": null,
            "width": null
          }
        },
        "630c0a08885c4ce1b6b44b9e4f0deedd": {
          "model_module": "@jupyter-widgets/base",
          "model_module_version": "1.2.0",
          "model_name": "LayoutModel",
          "state": {
            "_model_module": "@jupyter-widgets/base",
            "_model_module_version": "1.2.0",
            "_model_name": "LayoutModel",
            "_view_count": null,
            "_view_module": "@jupyter-widgets/base",
            "_view_module_version": "1.2.0",
            "_view_name": "LayoutView",
            "align_content": null,
            "align_items": null,
            "align_self": null,
            "border": null,
            "bottom": null,
            "display": null,
            "flex": null,
            "flex_flow": null,
            "grid_area": null,
            "grid_auto_columns": null,
            "grid_auto_flow": null,
            "grid_auto_rows": null,
            "grid_column": null,
            "grid_gap": null,
            "grid_row": null,
            "grid_template_areas": null,
            "grid_template_columns": null,
            "grid_template_rows": null,
            "height": null,
            "justify_content": null,
            "justify_items": null,
            "left": null,
            "margin": null,
            "max_height": null,
            "max_width": null,
            "min_height": null,
            "min_width": null,
            "object_fit": null,
            "object_position": null,
            "order": null,
            "overflow": null,
            "overflow_x": null,
            "overflow_y": null,
            "padding": null,
            "right": null,
            "top": null,
            "visibility": null,
            "width": null
          }
        },
        "6fc89e2aa39f48bc829a85a728baab14": {
          "model_module": "@jupyter-widgets/controls",
          "model_module_version": "1.5.0",
          "model_name": "DescriptionStyleModel",
          "state": {
            "_model_module": "@jupyter-widgets/controls",
            "_model_module_version": "1.5.0",
            "_model_name": "DescriptionStyleModel",
            "_view_count": null,
            "_view_module": "@jupyter-widgets/base",
            "_view_module_version": "1.2.0",
            "_view_name": "StyleView",
            "description_width": ""
          }
        },
        "7a082eacfb9a4cde9e7b056adf6243c6": {
          "model_module": "@jupyter-widgets/base",
          "model_module_version": "1.2.0",
          "model_name": "LayoutModel",
          "state": {
            "_model_module": "@jupyter-widgets/base",
            "_model_module_version": "1.2.0",
            "_model_name": "LayoutModel",
            "_view_count": null,
            "_view_module": "@jupyter-widgets/base",
            "_view_module_version": "1.2.0",
            "_view_name": "LayoutView",
            "align_content": null,
            "align_items": null,
            "align_self": null,
            "border": null,
            "bottom": null,
            "display": null,
            "flex": null,
            "flex_flow": null,
            "grid_area": null,
            "grid_auto_columns": null,
            "grid_auto_flow": null,
            "grid_auto_rows": null,
            "grid_column": null,
            "grid_gap": null,
            "grid_row": null,
            "grid_template_areas": null,
            "grid_template_columns": null,
            "grid_template_rows": null,
            "height": null,
            "justify_content": null,
            "justify_items": null,
            "left": null,
            "margin": null,
            "max_height": null,
            "max_width": null,
            "min_height": null,
            "min_width": null,
            "object_fit": null,
            "object_position": null,
            "order": null,
            "overflow": null,
            "overflow_x": null,
            "overflow_y": null,
            "padding": null,
            "right": null,
            "top": null,
            "visibility": null,
            "width": null
          }
        },
        "81bda51cb62a422ba6c0dadb76a60295": {
          "model_module": "@jupyter-widgets/controls",
          "model_module_version": "1.5.0",
          "model_name": "HBoxModel",
          "state": {
            "_dom_classes": [],
            "_model_module": "@jupyter-widgets/controls",
            "_model_module_version": "1.5.0",
            "_model_name": "HBoxModel",
            "_view_count": null,
            "_view_module": "@jupyter-widgets/controls",
            "_view_module_version": "1.5.0",
            "_view_name": "HBoxView",
            "box_style": "",
            "children": [
              "IPY_MODEL_2842262c8cb8412a8124cbd8604f8d21",
              "IPY_MODEL_ac279ecc4d8c49259434f7d859f08def",
              "IPY_MODEL_e5f9d01b5cda4b36b510c23289698fd7"
            ],
            "layout": "IPY_MODEL_16a4dda2f41a4ffd953dafe4f8ee713b"
          }
        },
        "84fd024760124776ad3243f0628a3013": {
          "model_module": "@jupyter-widgets/base",
          "model_module_version": "1.2.0",
          "model_name": "LayoutModel",
          "state": {
            "_model_module": "@jupyter-widgets/base",
            "_model_module_version": "1.2.0",
            "_model_name": "LayoutModel",
            "_view_count": null,
            "_view_module": "@jupyter-widgets/base",
            "_view_module_version": "1.2.0",
            "_view_name": "LayoutView",
            "align_content": null,
            "align_items": null,
            "align_self": null,
            "border": null,
            "bottom": null,
            "display": null,
            "flex": null,
            "flex_flow": null,
            "grid_area": null,
            "grid_auto_columns": null,
            "grid_auto_flow": null,
            "grid_auto_rows": null,
            "grid_column": null,
            "grid_gap": null,
            "grid_row": null,
            "grid_template_areas": null,
            "grid_template_columns": null,
            "grid_template_rows": null,
            "height": null,
            "justify_content": null,
            "justify_items": null,
            "left": null,
            "margin": null,
            "max_height": null,
            "max_width": null,
            "min_height": null,
            "min_width": null,
            "object_fit": null,
            "object_position": null,
            "order": null,
            "overflow": null,
            "overflow_x": null,
            "overflow_y": null,
            "padding": null,
            "right": null,
            "top": null,
            "visibility": null,
            "width": null
          }
        },
        "8ae7dce01bc64424b4452323c07896d2": {
          "model_module": "@jupyter-widgets/controls",
          "model_module_version": "1.5.0",
          "model_name": "HTMLModel",
          "state": {
            "_dom_classes": [],
            "_model_module": "@jupyter-widgets/controls",
            "_model_module_version": "1.5.0",
            "_model_name": "HTMLModel",
            "_view_count": null,
            "_view_module": "@jupyter-widgets/controls",
            "_view_module_version": "1.5.0",
            "_view_name": "HTMLView",
            "description": "",
            "description_tooltip": null,
            "layout": "IPY_MODEL_5474ed18bc5147ed9a5048a785a142ff",
            "placeholder": "​",
            "style": "IPY_MODEL_15bfe05248144af4a55f423234b71c30",
            "value": "Map: 100%"
          }
        },
        "97e585aba4214c8d9d64e1a7111b567c": {
          "model_module": "@jupyter-widgets/controls",
          "model_module_version": "1.5.0",
          "model_name": "HTMLModel",
          "state": {
            "_dom_classes": [],
            "_model_module": "@jupyter-widgets/controls",
            "_model_module_version": "1.5.0",
            "_model_name": "HTMLModel",
            "_view_count": null,
            "_view_module": "@jupyter-widgets/controls",
            "_view_module_version": "1.5.0",
            "_view_name": "HTMLView",
            "description": "",
            "description_tooltip": null,
            "layout": "IPY_MODEL_e55b27288d9c49a794edc2150048fa34",
            "placeholder": "​",
            "style": "IPY_MODEL_33de67a4ef5e4074864c0b228a65c03b",
            "value": "Map: 100%"
          }
        },
        "98eab2660ba14c71b8da81f9ac9c0b78": {
          "model_module": "@jupyter-widgets/controls",
          "model_module_version": "1.5.0",
          "model_name": "HTMLModel",
          "state": {
            "_dom_classes": [],
            "_model_module": "@jupyter-widgets/controls",
            "_model_module_version": "1.5.0",
            "_model_name": "HTMLModel",
            "_view_count": null,
            "_view_module": "@jupyter-widgets/controls",
            "_view_module_version": "1.5.0",
            "_view_name": "HTMLView",
            "description": "",
            "description_tooltip": null,
            "layout": "IPY_MODEL_630c0a08885c4ce1b6b44b9e4f0deedd",
            "placeholder": "​",
            "style": "IPY_MODEL_13468a2dce6c4a8299130564e9ec5c9e",
            "value": " 1583/1583 [00:00&lt;00:00, 3268.30 examples/s]"
          }
        },
        "9d07567732114e32b3515e237723a5c0": {
          "model_module": "@jupyter-widgets/base",
          "model_module_version": "1.2.0",
          "model_name": "LayoutModel",
          "state": {
            "_model_module": "@jupyter-widgets/base",
            "_model_module_version": "1.2.0",
            "_model_name": "LayoutModel",
            "_view_count": null,
            "_view_module": "@jupyter-widgets/base",
            "_view_module_version": "1.2.0",
            "_view_name": "LayoutView",
            "align_content": null,
            "align_items": null,
            "align_self": null,
            "border": null,
            "bottom": null,
            "display": null,
            "flex": null,
            "flex_flow": null,
            "grid_area": null,
            "grid_auto_columns": null,
            "grid_auto_flow": null,
            "grid_auto_rows": null,
            "grid_column": null,
            "grid_gap": null,
            "grid_row": null,
            "grid_template_areas": null,
            "grid_template_columns": null,
            "grid_template_rows": null,
            "height": null,
            "justify_content": null,
            "justify_items": null,
            "left": null,
            "margin": null,
            "max_height": null,
            "max_width": null,
            "min_height": null,
            "min_width": null,
            "object_fit": null,
            "object_position": null,
            "order": null,
            "overflow": null,
            "overflow_x": null,
            "overflow_y": null,
            "padding": null,
            "right": null,
            "top": null,
            "visibility": null,
            "width": null
          }
        },
        "ac279ecc4d8c49259434f7d859f08def": {
          "model_module": "@jupyter-widgets/controls",
          "model_module_version": "1.5.0",
          "model_name": "FloatProgressModel",
          "state": {
            "_dom_classes": [],
            "_model_module": "@jupyter-widgets/controls",
            "_model_module_version": "1.5.0",
            "_model_name": "FloatProgressModel",
            "_view_count": null,
            "_view_module": "@jupyter-widgets/controls",
            "_view_module_version": "1.5.0",
            "_view_name": "ProgressView",
            "bar_style": "success",
            "description": "",
            "description_tooltip": null,
            "layout": "IPY_MODEL_f6a374e97463465ab016da39a3c74653",
            "max": 3166,
            "min": 0,
            "orientation": "horizontal",
            "style": "IPY_MODEL_09b8ee5171aa4094a4f8715c40cbbe3d",
            "value": 3166
          }
        },
        "b4d71d37ce79459da2a20c692cd04daf": {
          "model_module": "@jupyter-widgets/base",
          "model_module_version": "1.2.0",
          "model_name": "LayoutModel",
          "state": {
            "_model_module": "@jupyter-widgets/base",
            "_model_module_version": "1.2.0",
            "_model_name": "LayoutModel",
            "_view_count": null,
            "_view_module": "@jupyter-widgets/base",
            "_view_module_version": "1.2.0",
            "_view_name": "LayoutView",
            "align_content": null,
            "align_items": null,
            "align_self": null,
            "border": null,
            "bottom": null,
            "display": null,
            "flex": null,
            "flex_flow": null,
            "grid_area": null,
            "grid_auto_columns": null,
            "grid_auto_flow": null,
            "grid_auto_rows": null,
            "grid_column": null,
            "grid_gap": null,
            "grid_row": null,
            "grid_template_areas": null,
            "grid_template_columns": null,
            "grid_template_rows": null,
            "height": null,
            "justify_content": null,
            "justify_items": null,
            "left": null,
            "margin": null,
            "max_height": null,
            "max_width": null,
            "min_height": null,
            "min_width": null,
            "object_fit": null,
            "object_position": null,
            "order": null,
            "overflow": null,
            "overflow_x": null,
            "overflow_y": null,
            "padding": null,
            "right": null,
            "top": null,
            "visibility": null,
            "width": null
          }
        },
        "b879e5c3f6d8424f93dda0ca47a34e0a": {
          "model_module": "@jupyter-widgets/controls",
          "model_module_version": "1.5.0",
          "model_name": "DescriptionStyleModel",
          "state": {
            "_model_module": "@jupyter-widgets/controls",
            "_model_module_version": "1.5.0",
            "_model_name": "DescriptionStyleModel",
            "_view_count": null,
            "_view_module": "@jupyter-widgets/base",
            "_view_module_version": "1.2.0",
            "_view_name": "StyleView",
            "description_width": ""
          }
        },
        "cbf4d3384db14d30a99cbd28bca3fea3": {
          "model_module": "@jupyter-widgets/base",
          "model_module_version": "1.2.0",
          "model_name": "LayoutModel",
          "state": {
            "_model_module": "@jupyter-widgets/base",
            "_model_module_version": "1.2.0",
            "_model_name": "LayoutModel",
            "_view_count": null,
            "_view_module": "@jupyter-widgets/base",
            "_view_module_version": "1.2.0",
            "_view_name": "LayoutView",
            "align_content": null,
            "align_items": null,
            "align_self": null,
            "border": null,
            "bottom": null,
            "display": null,
            "flex": null,
            "flex_flow": null,
            "grid_area": null,
            "grid_auto_columns": null,
            "grid_auto_flow": null,
            "grid_auto_rows": null,
            "grid_column": null,
            "grid_gap": null,
            "grid_row": null,
            "grid_template_areas": null,
            "grid_template_columns": null,
            "grid_template_rows": null,
            "height": null,
            "justify_content": null,
            "justify_items": null,
            "left": null,
            "margin": null,
            "max_height": null,
            "max_width": null,
            "min_height": null,
            "min_width": null,
            "object_fit": null,
            "object_position": null,
            "order": null,
            "overflow": null,
            "overflow_x": null,
            "overflow_y": null,
            "padding": null,
            "right": null,
            "top": null,
            "visibility": null,
            "width": null
          }
        },
        "d72ac43899444700b4f34c6f119204e0": {
          "model_module": "@jupyter-widgets/controls",
          "model_module_version": "1.5.0",
          "model_name": "HBoxModel",
          "state": {
            "_dom_classes": [],
            "_model_module": "@jupyter-widgets/controls",
            "_model_module_version": "1.5.0",
            "_model_name": "HBoxModel",
            "_view_count": null,
            "_view_module": "@jupyter-widgets/controls",
            "_view_module_version": "1.5.0",
            "_view_name": "HBoxView",
            "box_style": "",
            "children": [
              "IPY_MODEL_97e585aba4214c8d9d64e1a7111b567c",
              "IPY_MODEL_25c10757c69441319deab37fcdc56a89",
              "IPY_MODEL_98eab2660ba14c71b8da81f9ac9c0b78"
            ],
            "layout": "IPY_MODEL_84fd024760124776ad3243f0628a3013"
          }
        },
        "e55b27288d9c49a794edc2150048fa34": {
          "model_module": "@jupyter-widgets/base",
          "model_module_version": "1.2.0",
          "model_name": "LayoutModel",
          "state": {
            "_model_module": "@jupyter-widgets/base",
            "_model_module_version": "1.2.0",
            "_model_name": "LayoutModel",
            "_view_count": null,
            "_view_module": "@jupyter-widgets/base",
            "_view_module_version": "1.2.0",
            "_view_name": "LayoutView",
            "align_content": null,
            "align_items": null,
            "align_self": null,
            "border": null,
            "bottom": null,
            "display": null,
            "flex": null,
            "flex_flow": null,
            "grid_area": null,
            "grid_auto_columns": null,
            "grid_auto_flow": null,
            "grid_auto_rows": null,
            "grid_column": null,
            "grid_gap": null,
            "grid_row": null,
            "grid_template_areas": null,
            "grid_template_columns": null,
            "grid_template_rows": null,
            "height": null,
            "justify_content": null,
            "justify_items": null,
            "left": null,
            "margin": null,
            "max_height": null,
            "max_width": null,
            "min_height": null,
            "min_width": null,
            "object_fit": null,
            "object_position": null,
            "order": null,
            "overflow": null,
            "overflow_x": null,
            "overflow_y": null,
            "padding": null,
            "right": null,
            "top": null,
            "visibility": null,
            "width": null
          }
        },
        "e5f9d01b5cda4b36b510c23289698fd7": {
          "model_module": "@jupyter-widgets/controls",
          "model_module_version": "1.5.0",
          "model_name": "HTMLModel",
          "state": {
            "_dom_classes": [],
            "_model_module": "@jupyter-widgets/controls",
            "_model_module_version": "1.5.0",
            "_model_name": "HTMLModel",
            "_view_count": null,
            "_view_module": "@jupyter-widgets/controls",
            "_view_module_version": "1.5.0",
            "_view_name": "HTMLView",
            "description": "",
            "description_tooltip": null,
            "layout": "IPY_MODEL_459bb1af72b1468784ca8dca042c9287",
            "placeholder": "​",
            "style": "IPY_MODEL_ee68cd1414284c619ecc9773ffbdc6ae",
            "value": " 3166/3166 [00:00&lt;00:00, 3622.89 examples/s]"
          }
        },
        "ee68cd1414284c619ecc9773ffbdc6ae": {
          "model_module": "@jupyter-widgets/controls",
          "model_module_version": "1.5.0",
          "model_name": "DescriptionStyleModel",
          "state": {
            "_model_module": "@jupyter-widgets/controls",
            "_model_module_version": "1.5.0",
            "_model_name": "DescriptionStyleModel",
            "_view_count": null,
            "_view_module": "@jupyter-widgets/base",
            "_view_module_version": "1.2.0",
            "_view_name": "StyleView",
            "description_width": ""
          }
        },
        "f6a374e97463465ab016da39a3c74653": {
          "model_module": "@jupyter-widgets/base",
          "model_module_version": "1.2.0",
          "model_name": "LayoutModel",
          "state": {
            "_model_module": "@jupyter-widgets/base",
            "_model_module_version": "1.2.0",
            "_model_name": "LayoutModel",
            "_view_count": null,
            "_view_module": "@jupyter-widgets/base",
            "_view_module_version": "1.2.0",
            "_view_name": "LayoutView",
            "align_content": null,
            "align_items": null,
            "align_self": null,
            "border": null,
            "bottom": null,
            "display": null,
            "flex": null,
            "flex_flow": null,
            "grid_area": null,
            "grid_auto_columns": null,
            "grid_auto_flow": null,
            "grid_auto_rows": null,
            "grid_column": null,
            "grid_gap": null,
            "grid_row": null,
            "grid_template_areas": null,
            "grid_template_columns": null,
            "grid_template_rows": null,
            "height": null,
            "justify_content": null,
            "justify_items": null,
            "left": null,
            "margin": null,
            "max_height": null,
            "max_width": null,
            "min_height": null,
            "min_width": null,
            "object_fit": null,
            "object_position": null,
            "order": null,
            "overflow": null,
            "overflow_x": null,
            "overflow_y": null,
            "padding": null,
            "right": null,
            "top": null,
            "visibility": null,
            "width": null
          }
        },
        "fcf1bf7d5d234bfe9833199bca459307": {
          "model_module": "@jupyter-widgets/controls",
          "model_module_version": "1.5.0",
          "model_name": "HTMLModel",
          "state": {
            "_dom_classes": [],
            "_model_module": "@jupyter-widgets/controls",
            "_model_module_version": "1.5.0",
            "_model_name": "HTMLModel",
            "_view_count": null,
            "_view_module": "@jupyter-widgets/controls",
            "_view_module_version": "1.5.0",
            "_view_name": "HTMLView",
            "description": "",
            "description_tooltip": null,
            "layout": "IPY_MODEL_4a37e60d4a824cfa9a943c98781a5159",
            "placeholder": "​",
            "style": "IPY_MODEL_6fc89e2aa39f48bc829a85a728baab14",
            "value": " 11426/11426 [00:03&lt;00:00, 3079.00 examples/s]"
          }
        }
      }
    }
  },
  "nbformat": 4,
  "nbformat_minor": 0
}
